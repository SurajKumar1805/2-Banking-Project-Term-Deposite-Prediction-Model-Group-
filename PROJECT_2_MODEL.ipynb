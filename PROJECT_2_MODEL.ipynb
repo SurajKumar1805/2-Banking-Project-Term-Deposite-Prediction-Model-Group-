{
 "cells": [
  {
   "cell_type": "markdown",
   "metadata": {},
   "source": [
    "**Importing the necessary libraies**"
   ]
  },
  {
   "cell_type": "code",
   "execution_count": 1,
   "metadata": {
    "id": "jkct31zlA43b"
   },
   "outputs": [],
   "source": [
    "import numpy as np\n",
    "import pandas as pd\n",
    "import matplotlib.pyplot as plt\n",
    "import seaborn as sns\n",
    "%matplotlib inline\n",
    "import warnings\n",
    "warnings.filterwarnings('ignore')"
   ]
  },
  {
   "cell_type": "code",
   "execution_count": 2,
   "metadata": {
    "id": "AHvhnwVTm_oI"
   },
   "outputs": [],
   "source": [
    "from sklearn.preprocessing import LabelEncoder,MinMaxScaler,StandardScaler\n",
    "from sklearn.linear_model import LogisticRegression\n",
    "from sklearn.tree import DecisionTreeClassifier\n",
    "from sklearn.svm import SVC\n",
    "from sklearn.neighbors import KNeighborsClassifier\n",
    "from sklearn.naive_bayes import GaussianNB\n",
    "from sklearn.ensemble import GradientBoostingClassifier ,RandomForestClassifier \n",
    "from xgboost import XGBClassifier \n",
    "from sklearn.model_selection import GridSearchCV, RandomizedSearchCV\n",
    "from sklearn.linear_model import Ridge,Lasso\n",
    "from sklearn.metrics import roc_auc_score ,mean_squared_error,accuracy_score,classification_report,roc_curve,confusion_matrix\n",
    "import warnings\n",
    "warnings.filterwarnings('ignore')\n",
    "from scipy.stats.mstats import winsorize\n",
    "from sklearn.feature_selection import RFE\n",
    "from sklearn.model_selection import train_test_split\n",
    "pd.set_option('display.max_columns',None)\n",
    "import six\n",
    "import sys\n",
    "sys.modules['sklearn.externals.six'] = six"
   ]
  },
  {
   "cell_type": "code",
   "execution_count": 5,
   "metadata": {
    "id": "Z02NJH6Pm_q4"
   },
   "outputs": [],
   "source": [
    "dataframe= pd.read_csv(\"C:/Users/skkum/Desktop/project related files/preprocessed_data.csv\")"
   ]
  },
  {
   "cell_type": "code",
   "execution_count": 6,
   "metadata": {
    "colab": {
     "base_uri": "https://localhost:8080/",
     "height": 206
    },
    "id": "tAMJaITIm_tI",
    "outputId": "5a120797-2f3c-4ebf-a79e-b20191d9a464"
   },
   "outputs": [
    {
     "data": {
      "text/html": [
       "<div>\n",
       "<style scoped>\n",
       "    .dataframe tbody tr th:only-of-type {\n",
       "        vertical-align: middle;\n",
       "    }\n",
       "\n",
       "    .dataframe tbody tr th {\n",
       "        vertical-align: top;\n",
       "    }\n",
       "\n",
       "    .dataframe thead th {\n",
       "        text-align: right;\n",
       "    }\n",
       "</style>\n",
       "<table border=\"1\" class=\"dataframe\">\n",
       "  <thead>\n",
       "    <tr style=\"text-align: right;\">\n",
       "      <th></th>\n",
       "      <th>age</th>\n",
       "      <th>job</th>\n",
       "      <th>marital</th>\n",
       "      <th>education</th>\n",
       "      <th>default</th>\n",
       "      <th>housing</th>\n",
       "      <th>loan</th>\n",
       "      <th>contact</th>\n",
       "      <th>month</th>\n",
       "      <th>day_of_week</th>\n",
       "      <th>duration</th>\n",
       "      <th>campaign</th>\n",
       "      <th>poutcome</th>\n",
       "      <th>y</th>\n",
       "    </tr>\n",
       "  </thead>\n",
       "  <tbody>\n",
       "    <tr>\n",
       "      <th>0</th>\n",
       "      <td>49</td>\n",
       "      <td>1</td>\n",
       "      <td>1</td>\n",
       "      <td>2</td>\n",
       "      <td>0</td>\n",
       "      <td>0</td>\n",
       "      <td>0</td>\n",
       "      <td>0</td>\n",
       "      <td>7</td>\n",
       "      <td>4</td>\n",
       "      <td>227</td>\n",
       "      <td>4</td>\n",
       "      <td>1</td>\n",
       "      <td>0</td>\n",
       "    </tr>\n",
       "    <tr>\n",
       "      <th>1</th>\n",
       "      <td>37</td>\n",
       "      <td>2</td>\n",
       "      <td>1</td>\n",
       "      <td>6</td>\n",
       "      <td>0</td>\n",
       "      <td>0</td>\n",
       "      <td>0</td>\n",
       "      <td>1</td>\n",
       "      <td>7</td>\n",
       "      <td>4</td>\n",
       "      <td>202</td>\n",
       "      <td>2</td>\n",
       "      <td>0</td>\n",
       "      <td>0</td>\n",
       "    </tr>\n",
       "    <tr>\n",
       "      <th>2</th>\n",
       "      <td>55</td>\n",
       "      <td>5</td>\n",
       "      <td>1</td>\n",
       "      <td>0</td>\n",
       "      <td>0</td>\n",
       "      <td>0</td>\n",
       "      <td>0</td>\n",
       "      <td>0</td>\n",
       "      <td>3</td>\n",
       "      <td>1</td>\n",
       "      <td>550</td>\n",
       "      <td>1</td>\n",
       "      <td>1</td>\n",
       "      <td>1</td>\n",
       "    </tr>\n",
       "    <tr>\n",
       "      <th>3</th>\n",
       "      <td>36</td>\n",
       "      <td>0</td>\n",
       "      <td>1</td>\n",
       "      <td>6</td>\n",
       "      <td>0</td>\n",
       "      <td>1</td>\n",
       "      <td>0</td>\n",
       "      <td>1</td>\n",
       "      <td>6</td>\n",
       "      <td>1</td>\n",
       "      <td>120</td>\n",
       "      <td>2</td>\n",
       "      <td>1</td>\n",
       "      <td>0</td>\n",
       "    </tr>\n",
       "    <tr>\n",
       "      <th>4</th>\n",
       "      <td>55</td>\n",
       "      <td>5</td>\n",
       "      <td>0</td>\n",
       "      <td>6</td>\n",
       "      <td>0</td>\n",
       "      <td>0</td>\n",
       "      <td>0</td>\n",
       "      <td>0</td>\n",
       "      <td>4</td>\n",
       "      <td>3</td>\n",
       "      <td>368</td>\n",
       "      <td>2</td>\n",
       "      <td>1</td>\n",
       "      <td>0</td>\n",
       "    </tr>\n",
       "  </tbody>\n",
       "</table>\n",
       "</div>"
      ],
      "text/plain": [
       "   age  job  marital  education  default  housing  loan  contact  month  \\\n",
       "0   49    1        1          2        0        0     0        0      7   \n",
       "1   37    2        1          6        0        0     0        1      7   \n",
       "2   55    5        1          0        0        0     0        0      3   \n",
       "3   36    0        1          6        0        1     0        1      6   \n",
       "4   55    5        0          6        0        0     0        0      4   \n",
       "\n",
       "   day_of_week  duration  campaign  poutcome  y  \n",
       "0            4       227         4         1  0  \n",
       "1            4       202         2         0  0  \n",
       "2            1       550         1         1  1  \n",
       "3            1       120         2         1  0  \n",
       "4            3       368         2         1  0  "
      ]
     },
     "execution_count": 6,
     "metadata": {},
     "output_type": "execute_result"
    }
   ],
   "source": [
    "dataframe.head()"
   ]
  },
  {
   "cell_type": "code",
   "execution_count": 7,
   "metadata": {
    "colab": {
     "base_uri": "https://localhost:8080/"
    },
    "id": "e0mNIvEom_v_",
    "outputId": "93fdfa06-a951-4feb-ff4b-3174743c73ce"
   },
   "outputs": [
    {
     "name": "stdout",
     "output_type": "stream",
     "text": [
      "Shape of the data is:  (32950, 14)\n"
     ]
    }
   ],
   "source": [
    "print('Shape of the data is: ',dataframe.shape)"
   ]
  },
  {
   "cell_type": "markdown",
   "metadata": {
    "id": "VjO9sykRpg5T"
   },
   "source": [
    "# **PREPARING THE TRAIN AND TEST DATA**"
   ]
  },
  {
   "cell_type": "code",
   "execution_count": 8,
   "metadata": {
    "colab": {
     "base_uri": "https://localhost:8080/"
    },
    "id": "GHpxZ58Pm_yf",
    "outputId": "d31d99e2-f562-4a66-c457-84fe019c1f35"
   },
   "outputs": [
    {
     "data": {
      "text/plain": [
       "0    29238\n",
       "1     3712\n",
       "Name: y, dtype: int64"
      ]
     },
     "execution_count": 8,
     "metadata": {},
     "output_type": "execute_result"
    }
   ],
   "source": [
    "#Predictor Variables\n",
    "X = dataframe.iloc[:,:-1]\n",
    "\n",
    "# Target Variable\n",
    "y = dataframe.iloc[:,-1]\n",
    "pd.value_counts(y)"
   ]
  },
  {
   "cell_type": "code",
   "execution_count": 9,
   "metadata": {
    "colab": {
     "base_uri": "https://localhost:8080/",
     "height": 206
    },
    "id": "DcWAJQgeWZub",
    "outputId": "dfa6f93e-560c-4e70-d412-a4ecbe3bc437"
   },
   "outputs": [
    {
     "data": {
      "text/html": [
       "<div>\n",
       "<style scoped>\n",
       "    .dataframe tbody tr th:only-of-type {\n",
       "        vertical-align: middle;\n",
       "    }\n",
       "\n",
       "    .dataframe tbody tr th {\n",
       "        vertical-align: top;\n",
       "    }\n",
       "\n",
       "    .dataframe thead th {\n",
       "        text-align: right;\n",
       "    }\n",
       "</style>\n",
       "<table border=\"1\" class=\"dataframe\">\n",
       "  <thead>\n",
       "    <tr style=\"text-align: right;\">\n",
       "      <th></th>\n",
       "      <th>age</th>\n",
       "      <th>job</th>\n",
       "      <th>marital</th>\n",
       "      <th>education</th>\n",
       "      <th>default</th>\n",
       "      <th>housing</th>\n",
       "      <th>loan</th>\n",
       "      <th>contact</th>\n",
       "      <th>month</th>\n",
       "      <th>day_of_week</th>\n",
       "      <th>duration</th>\n",
       "      <th>campaign</th>\n",
       "      <th>poutcome</th>\n",
       "    </tr>\n",
       "  </thead>\n",
       "  <tbody>\n",
       "    <tr>\n",
       "      <th>0</th>\n",
       "      <td>49</td>\n",
       "      <td>1</td>\n",
       "      <td>1</td>\n",
       "      <td>2</td>\n",
       "      <td>0</td>\n",
       "      <td>0</td>\n",
       "      <td>0</td>\n",
       "      <td>0</td>\n",
       "      <td>7</td>\n",
       "      <td>4</td>\n",
       "      <td>227</td>\n",
       "      <td>4</td>\n",
       "      <td>1</td>\n",
       "    </tr>\n",
       "    <tr>\n",
       "      <th>1</th>\n",
       "      <td>37</td>\n",
       "      <td>2</td>\n",
       "      <td>1</td>\n",
       "      <td>6</td>\n",
       "      <td>0</td>\n",
       "      <td>0</td>\n",
       "      <td>0</td>\n",
       "      <td>1</td>\n",
       "      <td>7</td>\n",
       "      <td>4</td>\n",
       "      <td>202</td>\n",
       "      <td>2</td>\n",
       "      <td>0</td>\n",
       "    </tr>\n",
       "    <tr>\n",
       "      <th>2</th>\n",
       "      <td>55</td>\n",
       "      <td>5</td>\n",
       "      <td>1</td>\n",
       "      <td>0</td>\n",
       "      <td>0</td>\n",
       "      <td>0</td>\n",
       "      <td>0</td>\n",
       "      <td>0</td>\n",
       "      <td>3</td>\n",
       "      <td>1</td>\n",
       "      <td>550</td>\n",
       "      <td>1</td>\n",
       "      <td>1</td>\n",
       "    </tr>\n",
       "    <tr>\n",
       "      <th>3</th>\n",
       "      <td>36</td>\n",
       "      <td>0</td>\n",
       "      <td>1</td>\n",
       "      <td>6</td>\n",
       "      <td>0</td>\n",
       "      <td>1</td>\n",
       "      <td>0</td>\n",
       "      <td>1</td>\n",
       "      <td>6</td>\n",
       "      <td>1</td>\n",
       "      <td>120</td>\n",
       "      <td>2</td>\n",
       "      <td>1</td>\n",
       "    </tr>\n",
       "    <tr>\n",
       "      <th>4</th>\n",
       "      <td>55</td>\n",
       "      <td>5</td>\n",
       "      <td>0</td>\n",
       "      <td>6</td>\n",
       "      <td>0</td>\n",
       "      <td>0</td>\n",
       "      <td>0</td>\n",
       "      <td>0</td>\n",
       "      <td>4</td>\n",
       "      <td>3</td>\n",
       "      <td>368</td>\n",
       "      <td>2</td>\n",
       "      <td>1</td>\n",
       "    </tr>\n",
       "  </tbody>\n",
       "</table>\n",
       "</div>"
      ],
      "text/plain": [
       "   age  job  marital  education  default  housing  loan  contact  month  \\\n",
       "0   49    1        1          2        0        0     0        0      7   \n",
       "1   37    2        1          6        0        0     0        1      7   \n",
       "2   55    5        1          0        0        0     0        0      3   \n",
       "3   36    0        1          6        0        1     0        1      6   \n",
       "4   55    5        0          6        0        0     0        0      4   \n",
       "\n",
       "   day_of_week  duration  campaign  poutcome  \n",
       "0            4       227         4         1  \n",
       "1            4       202         2         0  \n",
       "2            1       550         1         1  \n",
       "3            1       120         2         1  \n",
       "4            3       368         2         1  "
      ]
     },
     "execution_count": 9,
     "metadata": {},
     "output_type": "execute_result"
    }
   ],
   "source": [
    "X.head()"
   ]
  },
  {
   "cell_type": "code",
   "execution_count": 10,
   "metadata": {
    "colab": {
     "base_uri": "https://localhost:8080/"
    },
    "id": "W7bgVZSVm_3f",
    "outputId": "4baa9a56-61eb-4e5e-b6d0-cc0926793699"
   },
   "outputs": [
    {
     "data": {
      "text/plain": [
       "((26360, 13), (6590, 13), (26360,), (6590,))"
      ]
     },
     "execution_count": 10,
     "metadata": {},
     "output_type": "execute_result"
    }
   ],
   "source": [
    "# Dividing the data into train and test subsets\n",
    "x_train,x_val,y_train,y_val = train_test_split(X,y,test_size=0.2,random_state=42)\n",
    "x_train.shape,x_val.shape,y_train.shape,y_val.shape"
   ]
  },
  {
   "cell_type": "markdown",
   "metadata": {
    "id": "cx9CBfwDqbV0"
   },
   "source": [
    "## **RUNNING LOGISTIC REGRESSION MODEL**"
   ]
  },
  {
   "cell_type": "code",
   "execution_count": 22,
   "metadata": {
    "colab": {
     "base_uri": "https://localhost:8080/"
    },
    "id": "14XhTKbQm_5n",
    "outputId": "dd674c2d-d5b9-456a-c56d-3350f7a25863"
   },
   "outputs": [
    {
     "data": {
      "text/plain": [
       "array([0, 0, 0, ..., 0, 0, 0], dtype=int64)"
      ]
     },
     "execution_count": 22,
     "metadata": {},
     "output_type": "execute_result"
    }
   ],
   "source": [
    "model = LogisticRegression()\n",
    "\n",
    "# fitting the model\n",
    "model.fit(x_train, y_train)\n",
    "\n",
    "# predicting the values\n",
    "y_scores = model.predict(x_val)\n",
    "y_scores"
   ]
  },
  {
   "cell_type": "code",
   "execution_count": 23,
   "metadata": {
    "colab": {
     "base_uri": "https://localhost:8080/"
    },
    "id": "nkbEtC1Mm_75",
    "outputId": "d26de04f-17d6-4732-f9e6-708d7081b872"
   },
   "outputs": [
    {
     "name": "stdout",
     "output_type": "stream",
     "text": [
      "Classification Report\n",
      "-------------------------------------------------------\n",
      "              precision    recall  f1-score   support\n",
      "\n",
      "           0       0.90      0.98      0.93      5798\n",
      "           1       0.50      0.17      0.25       792\n",
      "\n",
      "    accuracy                           0.88      6590\n",
      "   macro avg       0.70      0.57      0.59      6590\n",
      "weighted avg       0.85      0.88      0.85      6590\n",
      "\n"
     ]
    }
   ],
   "source": [
    "from sklearn.metrics import confusion_matrix\n",
    "from sklearn.metrics import classification_report\n",
    "clf_rpt = classification_report(y_val,y_scores)\n",
    "print(\"Classification Report\")\n",
    "print(\"-\"*55)\n",
    "print(clf_rpt)"
   ]
  },
  {
   "cell_type": "code",
   "execution_count": 24,
   "metadata": {
    "colab": {
     "base_uri": "https://localhost:8080/",
     "height": 331
    },
    "id": "TyGhAYkwm_-Y",
    "outputId": "f7d5c2dc-9620-4edf-e38b-b6ebedb19ec8"
   },
   "outputs": [
    {
     "name": "stdout",
     "output_type": "stream",
     "text": [
      "AREA UNDER THE CURVE IS :  0.5731264873641555\n",
      "ROC_AUC_SCORE is 0.5731264873641555\n"
     ]
    },
    {
     "data": {
      "image/png": "[encoded data removed]",
      "text/plain": [
       "<Figure size 432x288 with 1 Axes>"
      ]
     },
     "metadata": {
      "needs_background": "light"
     },
     "output_type": "display_data"
    }
   ],
   "source": [
    "# getting the auc roc curve\n",
    "\n",
    "auc = roc_auc_score(y_val, y_scores)\n",
    "print(\"AREA UNDER THE CURVE IS : \", auc)\n",
    "false_positive_rate, true_positive_rate, thresholds = roc_curve(y_val, y_scores)\n",
    "print('ROC_AUC_SCORE is',roc_auc_score(y_val, y_scores))\n",
    "plt.plot(false_positive_rate, true_positive_rate)\n",
    "plt.xlabel('FPR')\n",
    "plt.ylabel('TPR')\n",
    "plt.title('ROC curve')\n",
    "plt.show()"
   ]
  },
  {
   "cell_type": "markdown",
   "metadata": {
    "id": "aIw-xdy_sh5E"
   },
   "source": [
    "## **RUNNING DECISION TREE CLASSIFIER**"
   ]
  },
  {
   "cell_type": "code",
   "execution_count": 25,
   "metadata": {
    "colab": {
     "base_uri": "https://localhost:8080/"
    },
    "id": "rUckd62unAAu",
    "outputId": "ffbd7528-3023-4ba1-c8bf-a475c3555b4c"
   },
   "outputs": [
    {
     "data": {
      "text/plain": [
       "array([0, 1, 0, ..., 0, 0, 0], dtype=int64)"
      ]
     },
     "execution_count": 25,
     "metadata": {},
     "output_type": "execute_result"
    }
   ],
   "source": [
    "dtcmodel = DecisionTreeClassifier()\n",
    "dtcmodel.fit(x_train, y_train)\n",
    "y_scores = dtcmodel.predict(x_val)\n",
    "y_scores"
   ]
  },
  {
   "cell_type": "code",
   "execution_count": 26,
   "metadata": {
    "colab": {
     "base_uri": "https://localhost:8080/"
    },
    "id": "3t88zc3cnADM",
    "outputId": "6a0550a9-457e-4d5b-81fc-64ffb7861fe9"
   },
   "outputs": [
    {
     "name": "stdout",
     "output_type": "stream",
     "text": [
      "Classification Report\n",
      "-------------------------------------------------------\n",
      "              precision    recall  f1-score   support\n",
      "\n",
      "           0       0.92      0.93      0.93      5798\n",
      "           1       0.45      0.44      0.45       792\n",
      "\n",
      "    accuracy                           0.87      6590\n",
      "   macro avg       0.69      0.68      0.69      6590\n",
      "weighted avg       0.87      0.87      0.87      6590\n",
      "\n"
     ]
    }
   ],
   "source": [
    "from sklearn.metrics import confusion_matrix\n",
    "from sklearn.metrics import classification_report\n",
    "clf_rpt = classification_report(y_val,y_scores)\n",
    "print(\"Classification Report\")\n",
    "print(\"-\"*55)\n",
    "print(clf_rpt)"
   ]
  },
  {
   "cell_type": "code",
   "execution_count": 27,
   "metadata": {
    "colab": {
     "base_uri": "https://localhost:8080/",
     "height": 331
    },
    "id": "nKeUAWB28yZA",
    "outputId": "92aecd55-04f3-4b25-b4b0-7b8c281a314a"
   },
   "outputs": [
    {
     "name": "stdout",
     "output_type": "stream",
     "text": [
      "AREA UNDER THE CURVE IS :  0.6847678666624855\n",
      "ROC_AUC_SCORE is 0.6847678666624855\n"
     ]
    },
    {
     "data": {
      "image/png": "[encoded data removed]",
      "text/plain": [
       "<Figure size 432x288 with 1 Axes>"
      ]
     },
     "metadata": {
      "needs_background": "light"
     },
     "output_type": "display_data"
    }
   ],
   "source": [
    "# getting the auc roc curve\n",
    "auc = roc_auc_score(y_val, y_scores)\n",
    "print(\"AREA UNDER THE CURVE IS : \", auc)\n",
    "\n",
    "false_positive_rate, true_positive_rate, thresholds = roc_curve(y_val, y_scores)\n",
    "print('ROC_AUC_SCORE is',roc_auc_score(y_val, y_scores))\n",
    "    \n",
    "    \n",
    "plt.plot(false_positive_rate, true_positive_rate)\n",
    "plt.xlabel('FPR')\n",
    "plt.ylabel('TPR')\n",
    "plt.title('ROC curve')\n",
    "plt.show()"
   ]
  },
  {
   "cell_type": "markdown",
   "metadata": {
    "id": "fXop70Fn78Ga"
   },
   "source": [
    "## **RUNNING RANDOM FORREST CLASSIFIER**"
   ]
  },
  {
   "cell_type": "code",
   "execution_count": 28,
   "metadata": {
    "id": "ZabV6DAJnAFV"
   },
   "outputs": [],
   "source": [
    "rfcmodel = RandomForestClassifier()\n",
    "\n",
    "rfcmodel.fit(x_train, y_train)\n",
    "y_scores = rfcmodel.predict(x_val)"
   ]
  },
  {
   "cell_type": "code",
   "execution_count": 29,
   "metadata": {
    "colab": {
     "base_uri": "https://localhost:8080/"
    },
    "id": "14pbIYg2nAHq",
    "outputId": "b0721593-8f01-451b-c008-a91acbee64c2"
   },
   "outputs": [
    {
     "name": "stdout",
     "output_type": "stream",
     "text": [
      "Classification Report\n",
      "-------------------------------------------------------\n",
      "              precision    recall  f1-score   support\n",
      "\n",
      "           0       0.91      0.97      0.94      5798\n",
      "           1       0.62      0.33      0.43       792\n",
      "\n",
      "    accuracy                           0.90      6590\n",
      "   macro avg       0.77      0.65      0.69      6590\n",
      "weighted avg       0.88      0.90      0.88      6590\n",
      "\n"
     ]
    }
   ],
   "source": [
    "from sklearn.metrics import confusion_matrix\n",
    "from sklearn.metrics import classification_report\n",
    "clf_rpt = classification_report(y_val,y_scores)\n",
    "print(\"Classification Report\")\n",
    "print(\"-\"*55)\n",
    "print(clf_rpt)"
   ]
  },
  {
   "cell_type": "code",
   "execution_count": 30,
   "metadata": {
    "colab": {
     "base_uri": "https://localhost:8080/",
     "height": 331
    },
    "id": "BS3x9DNtnAJr",
    "outputId": "1bc7430f-a68d-4ba6-c44a-c58484cc1c22"
   },
   "outputs": [
    {
     "name": "stdout",
     "output_type": "stream",
     "text": [
      "AREA UNDER THE CURVE IS :  0.6520650189372162\n",
      "ROC_AUC_SCORE is 0.6520650189372162\n"
     ]
    },
    {
     "data": {
      "image/png": "[encoded data removed]",
      "text/plain": [
       "<Figure size 432x288 with 1 Axes>"
      ]
     },
     "metadata": {
      "needs_background": "light"
     },
     "output_type": "display_data"
    }
   ],
   "source": [
    "# getting the auc roc curve\n",
    "auc = roc_auc_score(y_val, y_scores)\n",
    "print(\"AREA UNDER THE CURVE IS : \", auc)\n",
    "\n",
    "false_positive_rate, true_positive_rate, thresholds = roc_curve(y_val, y_scores)\n",
    "print('ROC_AUC_SCORE is',roc_auc_score(y_val, y_scores))\n",
    "    \n",
    "    \n",
    "plt.plot(false_positive_rate, true_positive_rate)\n",
    "plt.xlabel('FPR')\n",
    "plt.ylabel('TPR')\n",
    "plt.title('ROC curve')\n",
    "plt.show()"
   ]
  },
  {
   "cell_type": "markdown",
   "metadata": {
    "id": "HwyrFuR99XeW"
   },
   "source": [
    "## **RUNNING SUPPORT VECTOR MACHINE**"
   ]
  },
  {
   "cell_type": "code",
   "execution_count": 31,
   "metadata": {
    "id": "YQpARwhVnAMo"
   },
   "outputs": [],
   "source": [
    "svc=SVC()\n",
    "svc.fit(x_train, y_train)\n",
    "y_scores = svc.predict(x_val)"
   ]
  },
  {
   "cell_type": "code",
   "execution_count": 32,
   "metadata": {
    "colab": {
     "base_uri": "https://localhost:8080/"
    },
    "id": "5SNrVPZlnAPN",
    "outputId": "9ab8cb01-3836-4889-d083-c5d8a1e64310"
   },
   "outputs": [
    {
     "name": "stdout",
     "output_type": "stream",
     "text": [
      "Classification Report\n",
      "-------------------------------------------------------\n",
      "              precision    recall  f1-score   support\n",
      "\n",
      "           0       0.88      1.00      0.94      5798\n",
      "           1       0.00      0.00      0.00       792\n",
      "\n",
      "    accuracy                           0.88      6590\n",
      "   macro avg       0.44      0.50      0.47      6590\n",
      "weighted avg       0.77      0.88      0.82      6590\n",
      "\n"
     ]
    }
   ],
   "source": [
    "from sklearn.metrics import confusion_matrix\n",
    "from sklearn.metrics import classification_report\n",
    "clf_rpt = classification_report(y_val,y_scores)\n",
    "print(\"Classification Report\")\n",
    "print(\"-\"*55)\n",
    "print(clf_rpt)"
   ]
  },
  {
   "cell_type": "code",
   "execution_count": 21,
   "metadata": {
    "colab": {
     "base_uri": "https://localhost:8080/",
     "height": 331
    },
    "id": "BiMYEb8vnARi",
    "outputId": "c689269c-793b-4a13-bb17-4e175c27d69f"
   },
   "outputs": [
    {
     "name": "stdout",
     "output_type": "stream",
     "text": [
      "AREA UNDER THE CURVE IS :  0.6595268831815918\n",
      "ROC_AUC_SCORE is 0.6595268831815918\n"
     ]
    },
    {
     "data": {
      "image/png": "[encoded data removed]",
      "text/plain": [
       "<Figure size 432x288 with 1 Axes>"
      ]
     },
     "metadata": {
      "needs_background": "light"
     },
     "output_type": "display_data"
    }
   ],
   "source": [
    "# getting the auc roc curve\n",
    "auc = roc_auc_score(y_val, y_scores)\n",
    "print(\"AREA UNDER THE CURVE IS : \", auc)\n",
    "\n",
    "false_positive_rate, true_positive_rate, thresholds = roc_curve(y_val, y_scores)\n",
    "print('ROC_AUC_SCORE is',roc_auc_score(y_val, y_scores))\n",
    "    \n",
    "    \n",
    "plt.plot(false_positive_rate, true_positive_rate)\n",
    "plt.xlabel('FPR')\n",
    "plt.ylabel('TPR')\n",
    "plt.title('ROC curve')\n",
    "plt.show()"
   ]
  },
  {
   "cell_type": "markdown",
   "metadata": {
    "id": "1zVjoZcm-YUG"
   },
   "source": [
    "## **RUNNING K-NEAREST NEIGHBOUR**"
   ]
  },
  {
   "cell_type": "code",
   "execution_count": 33,
   "metadata": {
    "id": "8_7uOFxC-Xdx"
   },
   "outputs": [],
   "source": [
    "knn=KNeighborsClassifier()\n",
    "knn.fit(x_train, y_train)\n",
    "y_scores = svc.predict(x_val)"
   ]
  },
  {
   "cell_type": "code",
   "execution_count": 34,
   "metadata": {
    "colab": {
     "base_uri": "https://localhost:8080/"
    },
    "id": "-qL9TEHb-XwO",
    "outputId": "04420de3-6c1d-4701-f9c1-b5561ba12151"
   },
   "outputs": [
    {
     "name": "stdout",
     "output_type": "stream",
     "text": [
      "Classification Report\n",
      "-------------------------------------------------------\n",
      "              precision    recall  f1-score   support\n",
      "\n",
      "           0       0.88      1.00      0.94      5798\n",
      "           1       0.00      0.00      0.00       792\n",
      "\n",
      "    accuracy                           0.88      6590\n",
      "   macro avg       0.44      0.50      0.47      6590\n",
      "weighted avg       0.77      0.88      0.82      6590\n",
      "\n"
     ]
    }
   ],
   "source": [
    "from sklearn.metrics import confusion_matrix\n",
    "from sklearn.metrics import classification_report\n",
    "clf_rpt = classification_report(y_val,y_scores)\n",
    "print(\"Classification Report\")\n",
    "print(\"-\"*55)\n",
    "print(clf_rpt)"
   ]
  },
  {
   "cell_type": "code",
   "execution_count": 23,
   "metadata": {
    "colab": {
     "base_uri": "https://localhost:8080/",
     "height": 331
    },
    "id": "GsLVWJA9-Xy_",
    "outputId": "c34fda64-89c4-4dec-b336-67a0b55a7dfe"
   },
   "outputs": [
    {
     "name": "stdout",
     "output_type": "stream",
     "text": [
      "AREA UNDER THE CURVE IS :  0.5\n",
      "ROC_AUC_SCORE is 0.5\n"
     ]
    },
    {
     "data": {
      "image/png": "[encoded data removed]",
      "text/plain": [
       "<Figure size 432x288 with 1 Axes>"
      ]
     },
     "metadata": {
      "needs_background": "light"
     },
     "output_type": "display_data"
    }
   ],
   "source": [
    "# getting the auc roc curve\n",
    "auc = roc_auc_score(y_val, y_scores)\n",
    "print(\"AREA UNDER THE CURVE IS : \", auc)\n",
    "\n",
    "false_positive_rate, true_positive_rate, thresholds = roc_curve(y_val, y_scores)\n",
    "print('ROC_AUC_SCORE is',roc_auc_score(y_val, y_scores))\n",
    "    \n",
    "    \n",
    "plt.plot(false_positive_rate, true_positive_rate)\n",
    "plt.xlabel('FPR')\n",
    "plt.ylabel('TPR')\n",
    "plt.title('ROC curve')\n",
    "plt.show()"
   ]
  },
  {
   "cell_type": "markdown",
   "metadata": {
    "id": "nXia5QnJAYo_"
   },
   "source": [
    "## From the above classification reports and AUC-ROC curve we get that only **Logistic Regression, Decision Tree** and **Random Forrest models** are of significance."
   ]
  },
  {
   "cell_type": "markdown",
   "metadata": {
    "id": "Sxjd8lSgBLAz"
   },
   "source": [
    "# FEATURE SELECTION"
   ]
  },
  {
   "cell_type": "code",
   "execution_count": 35,
   "metadata": {
    "id": "mMzxLU-Q_X02"
   },
   "outputs": [],
   "source": [
    "from sklearn.feature_selection import RFE"
   ]
  },
  {
   "cell_type": "markdown",
   "metadata": {
    "id": "sQsQr0GgB01K"
   },
   "source": [
    "**For Logistic Regression Model**"
   ]
  },
  {
   "cell_type": "code",
   "execution_count": 36,
   "metadata": {
    "colab": {
     "base_uri": "https://localhost:8080/"
    },
    "id": "o95Ioc4m_XyT",
    "outputId": "136ad7ae-613b-489a-bba8-0a6f852a2c47"
   },
   "outputs": [
    {
     "name": "stdout",
     "output_type": "stream",
     "text": [
      "Features  to be selected for Logistic Regression model are:\n",
      "['job', 'marital', 'education', 'housing', 'contact', 'day_of_week', 'campaign', 'poutcome']\n",
      "========================================================================================================================\n"
     ]
    }
   ],
   "source": [
    "#Selecting 8 number of features\n",
    "models = LogisticRegression()\n",
    "\n",
    "#using  rfe and selecting 8 features\n",
    "rfe = RFE(models,n_features_to_select=8, step=1)\n",
    "\n",
    "\n",
    "# fitting the model\n",
    "rfe = rfe.fit(X,y)\n",
    "\n",
    "#ranking features\n",
    "feature_ranking = pd.Series(rfe.ranking_, index=X.columns)\n",
    "plt.show()\n",
    "print('Features  to be selected for Logistic Regression model are:')\n",
    "print(feature_ranking[feature_ranking.values==1].index.tolist())\n",
    "print('===='*30)"
   ]
  },
  {
   "cell_type": "code",
   "execution_count": 37,
   "metadata": {
    "colab": {
     "base_uri": "https://localhost:8080/",
     "height": 424
    },
    "id": "bxm8RfW1TOnk",
    "outputId": "7704f9c5-3a4d-4213-869b-71bf013ce615"
   },
   "outputs": [
    {
     "data": {
      "text/html": [
       "<div>\n",
       "<style scoped>\n",
       "    .dataframe tbody tr th:only-of-type {\n",
       "        vertical-align: middle;\n",
       "    }\n",
       "\n",
       "    .dataframe tbody tr th {\n",
       "        vertical-align: top;\n",
       "    }\n",
       "\n",
       "    .dataframe thead th {\n",
       "        text-align: right;\n",
       "    }\n",
       "</style>\n",
       "<table border=\"1\" class=\"dataframe\">\n",
       "  <thead>\n",
       "    <tr style=\"text-align: right;\">\n",
       "      <th></th>\n",
       "      <th>age</th>\n",
       "      <th>job</th>\n",
       "      <th>marital</th>\n",
       "      <th>education</th>\n",
       "      <th>housing</th>\n",
       "      <th>contact</th>\n",
       "      <th>day_of_week</th>\n",
       "      <th>campaign</th>\n",
       "      <th>poutcome</th>\n",
       "    </tr>\n",
       "  </thead>\n",
       "  <tbody>\n",
       "    <tr>\n",
       "      <th>0</th>\n",
       "      <td>49</td>\n",
       "      <td>1</td>\n",
       "      <td>1</td>\n",
       "      <td>2</td>\n",
       "      <td>0</td>\n",
       "      <td>0</td>\n",
       "      <td>4</td>\n",
       "      <td>4</td>\n",
       "      <td>1</td>\n",
       "    </tr>\n",
       "    <tr>\n",
       "      <th>1</th>\n",
       "      <td>37</td>\n",
       "      <td>2</td>\n",
       "      <td>1</td>\n",
       "      <td>6</td>\n",
       "      <td>0</td>\n",
       "      <td>1</td>\n",
       "      <td>4</td>\n",
       "      <td>2</td>\n",
       "      <td>0</td>\n",
       "    </tr>\n",
       "    <tr>\n",
       "      <th>2</th>\n",
       "      <td>55</td>\n",
       "      <td>5</td>\n",
       "      <td>1</td>\n",
       "      <td>0</td>\n",
       "      <td>0</td>\n",
       "      <td>0</td>\n",
       "      <td>1</td>\n",
       "      <td>1</td>\n",
       "      <td>1</td>\n",
       "    </tr>\n",
       "    <tr>\n",
       "      <th>3</th>\n",
       "      <td>36</td>\n",
       "      <td>0</td>\n",
       "      <td>1</td>\n",
       "      <td>6</td>\n",
       "      <td>1</td>\n",
       "      <td>1</td>\n",
       "      <td>1</td>\n",
       "      <td>2</td>\n",
       "      <td>1</td>\n",
       "    </tr>\n",
       "    <tr>\n",
       "      <th>4</th>\n",
       "      <td>55</td>\n",
       "      <td>5</td>\n",
       "      <td>0</td>\n",
       "      <td>6</td>\n",
       "      <td>0</td>\n",
       "      <td>0</td>\n",
       "      <td>3</td>\n",
       "      <td>2</td>\n",
       "      <td>1</td>\n",
       "    </tr>\n",
       "    <tr>\n",
       "      <th>...</th>\n",
       "      <td>...</td>\n",
       "      <td>...</td>\n",
       "      <td>...</td>\n",
       "      <td>...</td>\n",
       "      <td>...</td>\n",
       "      <td>...</td>\n",
       "      <td>...</td>\n",
       "      <td>...</td>\n",
       "      <td>...</td>\n",
       "    </tr>\n",
       "    <tr>\n",
       "      <th>32945</th>\n",
       "      <td>28</td>\n",
       "      <td>7</td>\n",
       "      <td>2</td>\n",
       "      <td>3</td>\n",
       "      <td>1</td>\n",
       "      <td>0</td>\n",
       "      <td>3</td>\n",
       "      <td>1</td>\n",
       "      <td>1</td>\n",
       "    </tr>\n",
       "    <tr>\n",
       "      <th>32946</th>\n",
       "      <td>52</td>\n",
       "      <td>9</td>\n",
       "      <td>1</td>\n",
       "      <td>5</td>\n",
       "      <td>1</td>\n",
       "      <td>0</td>\n",
       "      <td>0</td>\n",
       "      <td>1</td>\n",
       "      <td>0</td>\n",
       "    </tr>\n",
       "    <tr>\n",
       "      <th>32947</th>\n",
       "      <td>54</td>\n",
       "      <td>0</td>\n",
       "      <td>1</td>\n",
       "      <td>2</td>\n",
       "      <td>0</td>\n",
       "      <td>0</td>\n",
       "      <td>1</td>\n",
       "      <td>4</td>\n",
       "      <td>1</td>\n",
       "    </tr>\n",
       "    <tr>\n",
       "      <th>32948</th>\n",
       "      <td>29</td>\n",
       "      <td>0</td>\n",
       "      <td>1</td>\n",
       "      <td>6</td>\n",
       "      <td>0</td>\n",
       "      <td>1</td>\n",
       "      <td>0</td>\n",
       "      <td>1</td>\n",
       "      <td>1</td>\n",
       "    </tr>\n",
       "    <tr>\n",
       "      <th>32949</th>\n",
       "      <td>35</td>\n",
       "      <td>0</td>\n",
       "      <td>1</td>\n",
       "      <td>6</td>\n",
       "      <td>0</td>\n",
       "      <td>1</td>\n",
       "      <td>3</td>\n",
       "      <td>3</td>\n",
       "      <td>1</td>\n",
       "    </tr>\n",
       "  </tbody>\n",
       "</table>\n",
       "<p>32950 rows × 9 columns</p>\n",
       "</div>"
      ],
      "text/plain": [
       "       age  job  marital  education  housing  contact  day_of_week  campaign  \\\n",
       "0       49    1        1          2        0        0            4         4   \n",
       "1       37    2        1          6        0        1            4         2   \n",
       "2       55    5        1          0        0        0            1         1   \n",
       "3       36    0        1          6        1        1            1         2   \n",
       "4       55    5        0          6        0        0            3         2   \n",
       "...    ...  ...      ...        ...      ...      ...          ...       ...   \n",
       "32945   28    7        2          3        1        0            3         1   \n",
       "32946   52    9        1          5        1        0            0         1   \n",
       "32947   54    0        1          2        0        0            1         4   \n",
       "32948   29    0        1          6        0        1            0         1   \n",
       "32949   35    0        1          6        0        1            3         3   \n",
       "\n",
       "       poutcome  \n",
       "0             1  \n",
       "1             0  \n",
       "2             1  \n",
       "3             1  \n",
       "4             1  \n",
       "...         ...  \n",
       "32945         1  \n",
       "32946         0  \n",
       "32947         1  \n",
       "32948         1  \n",
       "32949         1  \n",
       "\n",
       "[32950 rows x 9 columns]"
      ]
     },
     "execution_count": 37,
     "metadata": {},
     "output_type": "execute_result"
    }
   ],
   "source": [
    "X1=X.drop([\"default\",\"loan\",\"month\",\"duration\"],1)\n",
    "X1"
   ]
  },
  {
   "cell_type": "code",
   "execution_count": 38,
   "metadata": {
    "id": "iKpHHnn3TOxM"
   },
   "outputs": [],
   "source": [
    "# Dividing the data into train and test subsets\n",
    "x_train,x_val,y_train,y_val = train_test_split(X1,y,test_size=0.2,random_state=42)"
   ]
  },
  {
   "cell_type": "code",
   "execution_count": 39,
   "metadata": {
    "id": "tri4FpnJVbhY"
   },
   "outputs": [],
   "source": [
    "model = LogisticRegression()\n",
    "\n",
    "# fitting the model\n",
    "model.fit(x_train, y_train)\n",
    "\n",
    "# predicting the values\n",
    "y_scores = model.predict(x_val)"
   ]
  },
  {
   "cell_type": "code",
   "execution_count": 40,
   "metadata": {
    "colab": {
     "base_uri": "https://localhost:8080/"
    },
    "id": "DLi6IAHKTO-K",
    "outputId": "3ba0df29-c0e4-4568-dfd0-e6ed41676fec"
   },
   "outputs": [
    {
     "name": "stdout",
     "output_type": "stream",
     "text": [
      "Classification Report\n",
      "-------------------------------------------------------\n",
      "              precision    recall  f1-score   support\n",
      "\n",
      "           0       0.88      1.00      0.94      5798\n",
      "           1       0.00      0.00      0.00       792\n",
      "\n",
      "    accuracy                           0.88      6590\n",
      "   macro avg       0.44      0.50      0.47      6590\n",
      "weighted avg       0.77      0.88      0.82      6590\n",
      "\n"
     ]
    }
   ],
   "source": [
    "from sklearn.metrics import confusion_matrix\n",
    "from sklearn.metrics import classification_report\n",
    "clf_rpt = classification_report(y_val,y_scores)\n",
    "print(\"Classification Report\")\n",
    "print(\"-\"*55)\n",
    "print(clf_rpt)"
   ]
  },
  {
   "cell_type": "markdown",
   "metadata": {
    "id": "cUhNIXFFCQOw"
   },
   "source": [
    "**For Random Forrest Classifier**"
   ]
  },
  {
   "cell_type": "code",
   "execution_count": 33,
   "metadata": {
    "colab": {
     "base_uri": "https://localhost:8080/"
    },
    "id": "TwZoH_ktnAWZ",
    "outputId": "c1d67e20-dd7a-4778-9df7-f881e25b9057"
   },
   "outputs": [
    {
     "name": "stdout",
     "output_type": "stream",
     "text": [
      "Features  to be selected for Random Forrest Classifier are:\n",
      "['age', 'job', 'education', 'month', 'day_of_week', 'duration', 'campaign', 'poutcome']\n",
      "========================================================================================================================\n"
     ]
    }
   ],
   "source": [
    "# Selecting 8 number of features\n",
    "models = RandomForestClassifier()\n",
    "\n",
    "#using  rfe and selecting 8 features\n",
    "rfe = RFE(models,n_features_to_select=8,step = 1)\n",
    "\n",
    "#fitting the model\n",
    "rfe = rfe.fit(X,y)\n",
    "\n",
    "#ranking features\n",
    "feature_ranking = pd.Series(rfe.ranking_, index=X.columns)\n",
    "plt.show()\n",
    "print('Features  to be selected for Random Forrest Classifier are:')\n",
    "print(feature_ranking[feature_ranking.values==1].index.tolist())\n",
    "print('===='*30)"
   ]
  },
  {
   "cell_type": "code",
   "execution_count": 46,
   "metadata": {
    "colab": {
     "base_uri": "https://localhost:8080/",
     "height": 424
    },
    "id": "4s3an5UAXZT0",
    "outputId": "98e44336-f068-4de6-aae4-83429a2aed10"
   },
   "outputs": [
    {
     "data": {
      "text/html": [
       "<div>\n",
       "<style scoped>\n",
       "    .dataframe tbody tr th:only-of-type {\n",
       "        vertical-align: middle;\n",
       "    }\n",
       "\n",
       "    .dataframe tbody tr th {\n",
       "        vertical-align: top;\n",
       "    }\n",
       "\n",
       "    .dataframe thead th {\n",
       "        text-align: right;\n",
       "    }\n",
       "</style>\n",
       "<table border=\"1\" class=\"dataframe\">\n",
       "  <thead>\n",
       "    <tr style=\"text-align: right;\">\n",
       "      <th></th>\n",
       "      <th>age</th>\n",
       "      <th>job</th>\n",
       "      <th>education</th>\n",
       "      <th>month</th>\n",
       "      <th>day_of_week</th>\n",
       "      <th>duration</th>\n",
       "      <th>campaign</th>\n",
       "      <th>poutcome</th>\n",
       "    </tr>\n",
       "  </thead>\n",
       "  <tbody>\n",
       "    <tr>\n",
       "      <th>0</th>\n",
       "      <td>49</td>\n",
       "      <td>1</td>\n",
       "      <td>2</td>\n",
       "      <td>7</td>\n",
       "      <td>4</td>\n",
       "      <td>227</td>\n",
       "      <td>4</td>\n",
       "      <td>1</td>\n",
       "    </tr>\n",
       "    <tr>\n",
       "      <th>1</th>\n",
       "      <td>37</td>\n",
       "      <td>2</td>\n",
       "      <td>6</td>\n",
       "      <td>7</td>\n",
       "      <td>4</td>\n",
       "      <td>202</td>\n",
       "      <td>2</td>\n",
       "      <td>0</td>\n",
       "    </tr>\n",
       "    <tr>\n",
       "      <th>2</th>\n",
       "      <td>55</td>\n",
       "      <td>5</td>\n",
       "      <td>0</td>\n",
       "      <td>3</td>\n",
       "      <td>1</td>\n",
       "      <td>550</td>\n",
       "      <td>1</td>\n",
       "      <td>1</td>\n",
       "    </tr>\n",
       "    <tr>\n",
       "      <th>3</th>\n",
       "      <td>36</td>\n",
       "      <td>0</td>\n",
       "      <td>6</td>\n",
       "      <td>6</td>\n",
       "      <td>1</td>\n",
       "      <td>120</td>\n",
       "      <td>2</td>\n",
       "      <td>1</td>\n",
       "    </tr>\n",
       "    <tr>\n",
       "      <th>4</th>\n",
       "      <td>55</td>\n",
       "      <td>5</td>\n",
       "      <td>6</td>\n",
       "      <td>4</td>\n",
       "      <td>3</td>\n",
       "      <td>368</td>\n",
       "      <td>2</td>\n",
       "      <td>1</td>\n",
       "    </tr>\n",
       "    <tr>\n",
       "      <th>...</th>\n",
       "      <td>...</td>\n",
       "      <td>...</td>\n",
       "      <td>...</td>\n",
       "      <td>...</td>\n",
       "      <td>...</td>\n",
       "      <td>...</td>\n",
       "      <td>...</td>\n",
       "      <td>...</td>\n",
       "    </tr>\n",
       "    <tr>\n",
       "      <th>32945</th>\n",
       "      <td>28</td>\n",
       "      <td>7</td>\n",
       "      <td>3</td>\n",
       "      <td>3</td>\n",
       "      <td>3</td>\n",
       "      <td>192</td>\n",
       "      <td>1</td>\n",
       "      <td>1</td>\n",
       "    </tr>\n",
       "    <tr>\n",
       "      <th>32946</th>\n",
       "      <td>52</td>\n",
       "      <td>9</td>\n",
       "      <td>5</td>\n",
       "      <td>7</td>\n",
       "      <td>0</td>\n",
       "      <td>64</td>\n",
       "      <td>1</td>\n",
       "      <td>0</td>\n",
       "    </tr>\n",
       "    <tr>\n",
       "      <th>32947</th>\n",
       "      <td>54</td>\n",
       "      <td>0</td>\n",
       "      <td>2</td>\n",
       "      <td>3</td>\n",
       "      <td>1</td>\n",
       "      <td>131</td>\n",
       "      <td>4</td>\n",
       "      <td>1</td>\n",
       "    </tr>\n",
       "    <tr>\n",
       "      <th>32948</th>\n",
       "      <td>29</td>\n",
       "      <td>0</td>\n",
       "      <td>6</td>\n",
       "      <td>6</td>\n",
       "      <td>0</td>\n",
       "      <td>165</td>\n",
       "      <td>1</td>\n",
       "      <td>1</td>\n",
       "    </tr>\n",
       "    <tr>\n",
       "      <th>32949</th>\n",
       "      <td>35</td>\n",
       "      <td>0</td>\n",
       "      <td>6</td>\n",
       "      <td>4</td>\n",
       "      <td>3</td>\n",
       "      <td>544</td>\n",
       "      <td>3</td>\n",
       "      <td>1</td>\n",
       "    </tr>\n",
       "  </tbody>\n",
       "</table>\n",
       "<p>32950 rows × 8 columns</p>\n",
       "</div>"
      ],
      "text/plain": [
       "       age  job  education  month  day_of_week  duration  campaign  poutcome\n",
       "0       49    1          2      7            4       227         4         1\n",
       "1       37    2          6      7            4       202         2         0\n",
       "2       55    5          0      3            1       550         1         1\n",
       "3       36    0          6      6            1       120         2         1\n",
       "4       55    5          6      4            3       368         2         1\n",
       "...    ...  ...        ...    ...          ...       ...       ...       ...\n",
       "32945   28    7          3      3            3       192         1         1\n",
       "32946   52    9          5      7            0        64         1         0\n",
       "32947   54    0          2      3            1       131         4         1\n",
       "32948   29    0          6      6            0       165         1         1\n",
       "32949   35    0          6      4            3       544         3         1\n",
       "\n",
       "[32950 rows x 8 columns]"
      ]
     },
     "execution_count": 46,
     "metadata": {},
     "output_type": "execute_result"
    }
   ],
   "source": [
    "X2=X.drop([\"marital\",\t\"default\",\"housing\",\"loan\",\"contact\"],1)\n",
    "X2"
   ]
  },
  {
   "cell_type": "code",
   "execution_count": 35,
   "metadata": {
    "id": "Ey6bUtKjXZjR"
   },
   "outputs": [],
   "source": [
    "# Dividing the data into train and test subsets\n",
    "x_train,x_val,y_train,y_val = train_test_split(X2,y,test_size=0.2,random_state=42)"
   ]
  },
  {
   "cell_type": "code",
   "execution_count": 36,
   "metadata": {
    "id": "lHb1J9HGXZqU"
   },
   "outputs": [],
   "source": [
    "rfcmodel = RandomForestClassifier()\n",
    "\n",
    "rfcmodel.fit(x_train, y_train)\n",
    "y_scores = rfcmodel.predict(x_val)"
   ]
  },
  {
   "cell_type": "code",
   "execution_count": 37,
   "metadata": {
    "colab": {
     "base_uri": "https://localhost:8080/"
    },
    "id": "rbVmdL_AXZwy",
    "outputId": "d5765d89-0c84-494a-9e16-57e5807a6ae9"
   },
   "outputs": [
    {
     "name": "stdout",
     "output_type": "stream",
     "text": [
      "Classification Report\n",
      "-------------------------------------------------------\n",
      "              precision    recall  f1-score   support\n",
      "\n",
      "           0       0.92      0.97      0.94      5798\n",
      "           1       0.62      0.35      0.45       792\n",
      "\n",
      "    accuracy                           0.90      6590\n",
      "   macro avg       0.77      0.66      0.69      6590\n",
      "weighted avg       0.88      0.90      0.88      6590\n",
      "\n"
     ]
    }
   ],
   "source": [
    "from sklearn.metrics import confusion_matrix\n",
    "from sklearn.metrics import classification_report\n",
    "clf_rpt = classification_report(y_val,y_scores)\n",
    "print(\"Classification Report\")\n",
    "print(\"-\"*55)\n",
    "print(clf_rpt)"
   ]
  },
  {
   "cell_type": "markdown",
   "metadata": {
    "id": "YE20c4FGC77G"
   },
   "source": [
    "**For Decision Tree Classifier**"
   ]
  },
  {
   "cell_type": "code",
   "execution_count": 38,
   "metadata": {
    "colab": {
     "base_uri": "https://localhost:8080/"
    },
    "id": "i1jinogDCQ2B",
    "outputId": "89bebe68-f74d-4073-c231-898e4909abae"
   },
   "outputs": [
    {
     "name": "stdout",
     "output_type": "stream",
     "text": [
      "Features  to be selected for Decision Tree Classifier are:\n",
      "['age', 'job', 'education', 'month', 'day_of_week', 'duration', 'campaign', 'poutcome']\n",
      "========================================================================================================================\n"
     ]
    }
   ],
   "source": [
    "# Selecting 8 number of features\n",
    "models = DecisionTreeClassifier()\n",
    "\n",
    "#using  rfe and selecting 8 features\n",
    "rfe = RFE(models,n_features_to_select=8,step = 1)\n",
    "\n",
    "#fitting the model\n",
    "rfe = rfe.fit(X,y)\n",
    "\n",
    "#ranking features\n",
    "feature_ranking = pd.Series(rfe.ranking_, index=X.columns)\n",
    "plt.show()\n",
    "print('Features  to be selected for Decision Tree Classifier are:')\n",
    "print(feature_ranking[feature_ranking.values==1].index.tolist())\n",
    "print('===='*30)"
   ]
  },
  {
   "cell_type": "markdown",
   "metadata": {},
   "source": [
    "**Findings from Feature Selection:**\n",
    "*1) In case of Decision Tree we have observed the same set of features which we observed after the Recursive Feature Elimination of Random Forest Classifier. \n",
    "\n",
    "*2) Inspite of reducing the number of features in each of these model the accuracy score didn't change much.\n",
    "\n",
    "*3) Random Forset Classifier gives the highest accuracy score till now, so we will continue with Random Forest model."
   ]
  },
  {
   "cell_type": "markdown",
   "metadata": {},
   "source": [
    "Checking the Feature Importance of Random Forest:"
   ]
  },
  {
   "cell_type": "code",
   "execution_count": 41,
   "metadata": {
    "colab": {
     "base_uri": "https://localhost:8080/",
     "height": 319
    },
    "id": "spBRfSjhCQ7x",
    "outputId": "d151f678-d358-43c3-9753-e477f3284489"
   },
   "outputs": [
    {
     "data": {
      "image/png": "[encoded data removed]",
      "text/plain": [
       "<Figure size 432x288 with 1 Axes>"
      ]
     },
     "metadata": {
      "needs_background": "light"
     },
     "output_type": "display_data"
    }
   ],
   "source": [
    "# splitting the data into train and test data\n",
    "X_train, X_test, y_train, y_test = train_test_split(X, y, test_size=0.3, random_state=42)\n",
    "# selecting the data\n",
    "rfc = RandomForestClassifier(random_state=42)\n",
    "# fitting the data\n",
    "rfc.fit(X_train, y_train)\n",
    "# predicting the data\n",
    "y_pred = rfc.predict(X_test)\n",
    "# feature importances\n",
    "rfc_importances = pd.Series(rfc.feature_importances_, index=X.columns).sort_values().tail(10)\n",
    "# plotting bar chart according to feature importance\n",
    "rfc_importances.plot(kind='bar')\n",
    "plt.show()"
   ]
  },
  {
   "cell_type": "markdown",
   "metadata": {},
   "source": [
    "'duration' is the feature which have the highest importance in our model."
   ]
  },
  {
   "cell_type": "raw",
   "metadata": {
    "id": "5KyJZGJiDp_e"
   },
   "source": [
    "Performing GridSearch for HyperParameter Tuning on Random Forrest Classifier"
   ]
  },
  {
   "cell_type": "code",
   "execution_count": 42,
   "metadata": {
    "colab": {
     "base_uri": "https://localhost:8080/"
    },
    "id": "Mw1wkHpib0J9",
    "outputId": "f7c6c0e0-91bf-419c-c22d-bf44a9249db7",
    "scrolled": true
   },
   "outputs": [
    {
     "data": {
      "text/plain": [
       "((26360, 13), (6590, 13), (26360,), (6590,))"
      ]
     },
     "execution_count": 42,
     "metadata": {},
     "output_type": "execute_result"
    }
   ],
   "source": [
    "# Dividing the data into train and test subsets\n",
    "x_train,x_val,y_train,y_val = train_test_split(X,y,test_size=0.2,random_state=42)\n",
    "x_train.shape,x_val.shape,y_train.shape,y_val.shape"
   ]
  },
  {
   "cell_type": "code",
   "execution_count": 43,
   "metadata": {
    "colab": {
     "base_uri": "https://localhost:8080/"
    },
    "id": "PXPO4z1nb0Vt",
    "outputId": "2c00dc2b-1919-4b62-8fea-86a97e13d93e"
   },
   "outputs": [
    {
     "name": "stdout",
     "output_type": "stream",
     "text": [
      "Best Parameters are: {'criterion': 'gini', 'max_depth': 8, 'max_features': 'sqrt'}\n"
     ]
    }
   ],
   "source": [
    "rfcmodel = RandomForestClassifier()\n",
    "# selecting the parameter\n",
    "param_grid = { \n",
    "'max_features': ['auto', 'sqrt', 'log2'],\n",
    "'max_depth' : [4,5,6,7,8],\n",
    "'criterion' :['gini', 'entropy']\n",
    "             }\n",
    "# using grid search with respective parameters\n",
    "grid_search_model = GridSearchCV(rfcmodel, param_grid=param_grid)\n",
    "# fitting the model\n",
    "grid_search_model.fit(x_train, y_train)\n",
    "# printing the best parameters\n",
    "print('Best Parameters are:',grid_search_model.best_params_)"
   ]
  },
  {
   "cell_type": "markdown",
   "metadata": {},
   "source": [
    "Using SMOTE as we have imbalance y (target) variable"
   ]
  },
  {
   "cell_type": "code",
   "execution_count": 48,
   "metadata": {
    "id": "0Erar5iLb0dg"
   },
   "outputs": [],
   "source": [
    "from sklearn.metrics import roc_auc_score,roc_curve,classification_report\n",
    "from sklearn.model_selection import cross_val_score\n",
    "from imblearn.over_sampling import SMOTE\n",
    "from yellowbrick.classifier import roc_auc"
   ]
  },
  {
   "cell_type": "code",
   "execution_count": 49,
   "metadata": {
    "colab": {
     "base_uri": "https://localhost:8080/",
     "height": 577
    },
    "id": "fsKHk2Apb0gH",
    "outputId": "7ddf3cce-859e-47cb-afcc-177081bf3216"
   },
   "outputs": [
    {
     "name": "stdout",
     "output_type": "stream",
     "text": [
      "              precision    recall  f1-score   support\n",
      "\n",
      "           0       0.96      0.80      0.88      5798\n",
      "           1       0.35      0.77      0.48       792\n",
      "\n",
      "    accuracy                           0.80      6590\n",
      "   macro avg       0.66      0.79      0.68      6590\n",
      "weighted avg       0.89      0.80      0.83      6590\n",
      "\n",
      "[[4652 1146]\n",
      " [ 180  612]]\n"
     ]
    },
    {
     "data": {
      "image/png": "[encoded data removed]",
      "text/plain": [
       "<Figure size 576x396 with 1 Axes>"
      ]
     },
     "metadata": {},
     "output_type": "display_data"
    }
   ],
   "source": [
    "# A function to use smote\n",
    "def grid_search_random_forrest_best(dataframe,target):\n",
    "    \n",
    "    # splitting the data\n",
    "    x_train,x_val,y_train,y_val = train_test_split(dataframe,target,test_size=0.2,random_state=42)\n",
    "    \n",
    "    # Applying Smote on train data for dealing with class imbalance\n",
    "    smote = SMOTE()\n",
    "    \n",
    "    X_sm, y_sm =  smote.fit_resample(x_train, y_train)\n",
    "    \n",
    "    rfc = RandomForestClassifier(n_estimators=11, max_features='log2', max_depth=8, criterion='entropy',random_state=42)\n",
    "    \n",
    "    rfc.fit(X_sm, y_sm)\n",
    "    y_pred = rfc.predict(x_val)\n",
    "    print(classification_report(y_val, y_pred))\n",
    "    print(confusion_matrix(y_val, y_pred))\n",
    "    visualizer = roc_auc(rfc,X_sm,y_sm,x_val,y_val)\n",
    "    \n",
    "grid_search_random_forrest_best(X2,y)    "
   ]
  },
  {
   "cell_type": "markdown",
   "metadata": {},
   "source": [
    "**Conclusion Part:**\n",
    "\n",
    "    *Outcomes:*\n",
    "     1. Random Forest Classification is the best suit for this dataset, which gives the highest accuracy and precision although Decision Tree and Logistic Regression models have significant AUC of ROC curve.\n",
    "    2. Duration is the most important feature which influence the customers to suscribing in a term deposite.\n",
    "    \n",
    "    *Chalanges which we have faced:*\n",
    "    1. We have some missing values and outliers in our dataset which we needs to be treated accordingly.\n",
    "    2. The Recurssive feature elemination is computationally expensive although, after using this the accuracy of our model does not increased significantly.\n",
    "    \n",
    "    *Final Verdict:*\n",
    "    Random Forest Regression is the best fit for this dataset and Duration is the most influencing feature for suscribing in a term deposite. So the Bank should reach his customers between short durations to get a large number of customers suscribed to his term deposite scheme.\n",
    "    \n",
    "    \n",
    "                                          **THANK YOU**"
   ]
  }
 ],
 "metadata": {
  "colab": {
   "provenance": []
  },
  "kernelspec": {
   "display_name": "Python 3 (ipykernel)",
   "language": "python",
   "name": "python3"
  },
  "language_info": {
   "codemirror_mode": {
    "name": "ipython",
    "version": 3
   },
   "file_extension": ".py",
   "mimetype": "text/x-python",
   "name": "python",
   "nbconvert_exporter": "python",
   "pygments_lexer": "ipython3",
   "version": "3.9.7"
  }
 },
 "nbformat": 4,
 "nbformat_minor": 1
}
